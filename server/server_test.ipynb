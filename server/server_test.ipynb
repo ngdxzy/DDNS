{
 "cells": [
  {
   "cell_type": "code",
   "execution_count": 67,
   "metadata": {},
   "outputs": [],
   "source": [
    "import numpy as np\n",
    "import pandas as pd\n",
    "import bind9_utils\n",
    "from datetime import datetime\n",
    "import user_manager\n",
    "import socket as ss"
   ]
  },
  {
   "cell_type": "code",
   "execution_count": 68,
   "metadata": {},
   "outputs": [],
   "source": [
    "def check_alive(IP, port, name):\n",
    "    HOST = IP\n",
    "    PORT = port\n",
    "    ADDR = (HOST, PORT)\n",
    "    BUFSIZE = 1024\n",
    "    tcpClient = ss.socket(ss.AF_INET, ss.SOCK_STREAM)\n",
    "    tcpClient.settimeout(2)\n",
    "    try:\n",
    "        tcpClient.connect(ADDR)\n",
    "        msg = \"Alive?\"\n",
    "        tcpClient.send(msg.encode('utf-8'))\n",
    "        ack = tcpClient.recv(BUFSIZE)\n",
    "        if name in ack.decode('utf-8'):\n",
    "            tcpClient.close()\n",
    "            return True\n",
    "        else:\n",
    "            tcpClient.close()\n",
    "            return False\n",
    "    except:\n",
    "        tcpClient.close()\n",
    "        return False\n"
   ]
  },
  {
   "cell_type": "code",
   "execution_count": 71,
   "metadata": {},
   "outputs": [
    {
     "data": {
      "text/plain": [
       "True"
      ]
     },
     "execution_count": 71,
     "metadata": {},
     "output_type": "execute_result"
    }
   ],
   "source": [
    "check_alive('131.128.54.231',60000,'rog')"
   ]
  },
  {
   "cell_type": "code",
   "execution_count": 2,
   "metadata": {},
   "outputs": [
    {
     "name": "stdout",
     "output_type": "stream",
     "text": [
      "Empty DataFrame\n",
      "Columns: [username, zone, subnet, ip, date]\n",
      "Index: []\n",
      "  username     zone             subnet ip                  date\n",
      "0      rog  nextlab  131.128.54.175/24  x  04/20/2022, 22:03:04\n"
     ]
    }
   ],
   "source": [
    "user_manager.register_user('rog','nextlab','131.128.54.175/24')"
   ]
  },
  {
   "cell_type": "code",
   "execution_count": 3,
   "metadata": {},
   "outputs": [
    {
     "name": "stdout",
     "output_type": "stream",
     "text": [
      "  username     zone             subnet ip                  date\n",
      "0      rog  nextlab  131.128.54.175/24  x  04/20/2022, 22:03:04\n",
      "  username     zone             subnet ip                  date\n",
      "0      rog  nextlab  131.128.54.175/24  x  04/20/2022, 22:03:04\n",
      "1     p330  nextlab  131.128.54.175/24  x  04/20/2022, 22:03:08\n"
     ]
    }
   ],
   "source": [
    "user_manager.register_user('p330','nextlab','131.128.54.175/24')"
   ]
  },
  {
   "cell_type": "code",
   "execution_count": 4,
   "metadata": {},
   "outputs": [
    {
     "name": "stdout",
     "output_type": "stream",
     "text": [
      "  username     zone             subnet ip                  date\n",
      "0      rog  nextlab  131.128.54.175/24  x  04/20/2022, 22:03:04\n",
      "1     p330  nextlab  131.128.54.175/24  x  04/20/2022, 22:03:08\n",
      "  username     zone             subnet ip                  date\n",
      "0      rog  nextlab  131.128.54.175/24  x  04/20/2022, 22:03:04\n",
      "1     p330  nextlab  131.128.54.175/24  x  04/20/2022, 22:03:08\n",
      "2     dell  nextlab  131.128.54.175/24  x  04/20/2022, 22:03:12\n"
     ]
    }
   ],
   "source": [
    "user_manager.register_user('dell','nextlab','131.128.54.175/24')"
   ]
  },
  {
   "cell_type": "code",
   "execution_count": 5,
   "metadata": {},
   "outputs": [],
   "source": [
    "bind9_utils.create_zone('nextlab')"
   ]
  },
  {
   "cell_type": "code",
   "execution_count": 3,
   "metadata": {},
   "outputs": [],
   "source": [
    "bind9_utils.bind('nextlab','p330','131.128.54.47')"
   ]
  },
  {
   "cell_type": "code",
   "execution_count": 4,
   "metadata": {},
   "outputs": [],
   "source": [
    "bind9_utils.bind('nextlab','rog','131.128.54.175')"
   ]
  },
  {
   "cell_type": "code",
   "execution_count": 7,
   "metadata": {},
   "outputs": [],
   "source": [
    "bind9_utils.unbind('nextlab','p330')"
   ]
  },
  {
   "cell_type": "code",
   "execution_count": 2,
   "metadata": {},
   "outputs": [],
   "source": [
    "bind9_utils.remove_zone('nextlab')"
   ]
  },
  {
   "cell_type": "code",
   "execution_count": 8,
   "metadata": {},
   "outputs": [],
   "source": [
    "data = {\n",
    "  \"username\": [\"Nextlab\", \"p330\",\"rog\"],\n",
    "  \"zone\": ['nextlab','nextlab','nextlab'],\n",
    "  \"subnet\": ['131.128.54.0/24','131.128.54.0/24','131.128.54.0/24'],\n",
    "  \"ip\": [\"131.128.54.231\", \"131.128.54.47\", \"131.128.54.175\"],\n",
    "  \"date\": [\"a\",\"b\",\"c\"]\n",
    "}"
   ]
  },
  {
   "cell_type": "code",
   "execution_count": 9,
   "metadata": {},
   "outputs": [],
   "source": [
    "df = pd.DataFrame(data)"
   ]
  },
  {
   "cell_type": "code",
   "execution_count": 10,
   "metadata": {},
   "outputs": [],
   "source": [
    "new_record = {}\n",
    "new_record['name'] = ['mac']\n",
    "new_record['zone'] = ['nextlab']\n",
    "new_record['subnet'] = ['131.128.54.0/24']\n",
    "new_record['IP'] = ['131.128.54.161']\n",
    "new_record = pd.DataFrame(new_record)"
   ]
  },
  {
   "cell_type": "code",
   "execution_count": 11,
   "metadata": {},
   "outputs": [],
   "source": [
    "df = pd.concat([df, new_record], ignore_index=True)"
   ]
  },
  {
   "cell_type": "code",
   "execution_count": 17,
   "metadata": {},
   "outputs": [
    {
     "data": {
      "text/html": [
       "<div>\n",
       "<style scoped>\n",
       "    .dataframe tbody tr th:only-of-type {\n",
       "        vertical-align: middle;\n",
       "    }\n",
       "\n",
       "    .dataframe tbody tr th {\n",
       "        vertical-align: top;\n",
       "    }\n",
       "\n",
       "    .dataframe thead th {\n",
       "        text-align: right;\n",
       "    }\n",
       "</style>\n",
       "<table border=\"1\" class=\"dataframe\">\n",
       "  <thead>\n",
       "    <tr style=\"text-align: right;\">\n",
       "      <th></th>\n",
       "      <th>username</th>\n",
       "      <th>zone</th>\n",
       "      <th>subnet</th>\n",
       "      <th>ip</th>\n",
       "      <th>date</th>\n",
       "      <th>name</th>\n",
       "      <th>IP</th>\n",
       "    </tr>\n",
       "  </thead>\n",
       "  <tbody>\n",
       "    <tr>\n",
       "      <th>0</th>\n",
       "      <td>Nextlab</td>\n",
       "      <td>nextlab</td>\n",
       "      <td>131.128.54.0/24</td>\n",
       "      <td>131.128.54.231</td>\n",
       "      <td>a</td>\n",
       "      <td>NaN</td>\n",
       "      <td>NaN</td>\n",
       "    </tr>\n",
       "    <tr>\n",
       "      <th>1</th>\n",
       "      <td>p330</td>\n",
       "      <td>nextlab</td>\n",
       "      <td>131.128.54.0/24</td>\n",
       "      <td>131.128.54.47</td>\n",
       "      <td>b</td>\n",
       "      <td>NaN</td>\n",
       "      <td>NaN</td>\n",
       "    </tr>\n",
       "    <tr>\n",
       "      <th>2</th>\n",
       "      <td>rog</td>\n",
       "      <td>nextlab</td>\n",
       "      <td>131.128.54.0/24</td>\n",
       "      <td>131.128.54.175</td>\n",
       "      <td>c</td>\n",
       "      <td>NaN</td>\n",
       "      <td>NaN</td>\n",
       "    </tr>\n",
       "    <tr>\n",
       "      <th>3</th>\n",
       "      <td>NaN</td>\n",
       "      <td>nextlab</td>\n",
       "      <td>131.128.54.0/24</td>\n",
       "      <td>NaN</td>\n",
       "      <td>NaN</td>\n",
       "      <td>mac</td>\n",
       "      <td>131.128.54.161</td>\n",
       "    </tr>\n",
       "    <tr>\n",
       "      <th>p330</th>\n",
       "      <td>hello</td>\n",
       "      <td>hello</td>\n",
       "      <td>hello</td>\n",
       "      <td>hello</td>\n",
       "      <td>hello</td>\n",
       "      <td>hello</td>\n",
       "      <td>hello</td>\n",
       "    </tr>\n",
       "  </tbody>\n",
       "</table>\n",
       "</div>"
      ],
      "text/plain": [
       "     username     zone           subnet              ip   date   name  \\\n",
       "0     Nextlab  nextlab  131.128.54.0/24  131.128.54.231      a    NaN   \n",
       "1        p330  nextlab  131.128.54.0/24   131.128.54.47      b    NaN   \n",
       "2         rog  nextlab  131.128.54.0/24  131.128.54.175      c    NaN   \n",
       "3         NaN  nextlab  131.128.54.0/24             NaN    NaN    mac   \n",
       "p330    hello    hello            hello           hello  hello  hello   \n",
       "\n",
       "                  IP  \n",
       "0                NaN  \n",
       "1                NaN  \n",
       "2                NaN  \n",
       "3     131.128.54.161  \n",
       "p330           hello  "
      ]
     },
     "execution_count": 17,
     "metadata": {},
     "output_type": "execute_result"
    }
   ],
   "source": [
    "df"
   ]
  },
  {
   "cell_type": "code",
   "execution_count": 75,
   "metadata": {},
   "outputs": [],
   "source": [
    "df.drop(df['name'].to_list().index('Nextlab'), inplace=True)"
   ]
  },
  {
   "cell_type": "code",
   "execution_count": 24,
   "metadata": {},
   "outputs": [
    {
     "data": {
      "text/html": [
       "<div>\n",
       "<style scoped>\n",
       "    .dataframe tbody tr th:only-of-type {\n",
       "        vertical-align: middle;\n",
       "    }\n",
       "\n",
       "    .dataframe tbody tr th {\n",
       "        vertical-align: top;\n",
       "    }\n",
       "\n",
       "    .dataframe thead th {\n",
       "        text-align: right;\n",
       "    }\n",
       "</style>\n",
       "<table border=\"1\" class=\"dataframe\">\n",
       "  <thead>\n",
       "    <tr style=\"text-align: right;\">\n",
       "      <th></th>\n",
       "      <th>username</th>\n",
       "      <th>zone</th>\n",
       "      <th>subnet</th>\n",
       "      <th>ip</th>\n",
       "      <th>date</th>\n",
       "      <th>name</th>\n",
       "      <th>IP</th>\n",
       "    </tr>\n",
       "  </thead>\n",
       "  <tbody>\n",
       "    <tr>\n",
       "      <th>0</th>\n",
       "      <td>Nextlab</td>\n",
       "      <td>nextlab</td>\n",
       "      <td>131.128.54.0/24</td>\n",
       "      <td>131.128.54.231</td>\n",
       "      <td>a</td>\n",
       "      <td>NaN</td>\n",
       "      <td>NaN</td>\n",
       "    </tr>\n",
       "    <tr>\n",
       "      <th>1</th>\n",
       "      <td>p222</td>\n",
       "      <td>nextlab</td>\n",
       "      <td>131.128.54.0/24</td>\n",
       "      <td>131.128.54.47</td>\n",
       "      <td>b</td>\n",
       "      <td>NaN</td>\n",
       "      <td>NaN</td>\n",
       "    </tr>\n",
       "    <tr>\n",
       "      <th>2</th>\n",
       "      <td>ROG</td>\n",
       "      <td>nextlab</td>\n",
       "      <td>131.128.54.0/24</td>\n",
       "      <td>131.128.54.175</td>\n",
       "      <td>c</td>\n",
       "      <td>NaN</td>\n",
       "      <td>NaN</td>\n",
       "    </tr>\n",
       "    <tr>\n",
       "      <th>3</th>\n",
       "      <td>NaN</td>\n",
       "      <td>nextlab</td>\n",
       "      <td>131.128.54.0/24</td>\n",
       "      <td>NaN</td>\n",
       "      <td>NaN</td>\n",
       "      <td>mac</td>\n",
       "      <td>131.128.54.161</td>\n",
       "    </tr>\n",
       "    <tr>\n",
       "      <th>p330</th>\n",
       "      <td>hello</td>\n",
       "      <td>hello</td>\n",
       "      <td>hello</td>\n",
       "      <td>hello</td>\n",
       "      <td>hello</td>\n",
       "      <td>hello</td>\n",
       "      <td>hello</td>\n",
       "    </tr>\n",
       "  </tbody>\n",
       "</table>\n",
       "</div>"
      ],
      "text/plain": [
       "     username     zone           subnet              ip   date   name  \\\n",
       "0     Nextlab  nextlab  131.128.54.0/24  131.128.54.231      a    NaN   \n",
       "1        p222  nextlab  131.128.54.0/24   131.128.54.47      b    NaN   \n",
       "2         ROG  nextlab  131.128.54.0/24  131.128.54.175      c    NaN   \n",
       "3         NaN  nextlab  131.128.54.0/24             NaN    NaN    mac   \n",
       "p330    hello    hello            hello           hello  hello  hello   \n",
       "\n",
       "                  IP  \n",
       "0                NaN  \n",
       "1                NaN  \n",
       "2                NaN  \n",
       "3     131.128.54.161  \n",
       "p330           hello  "
      ]
     },
     "execution_count": 24,
     "metadata": {},
     "output_type": "execute_result"
    }
   ],
   "source": [
    "df"
   ]
  },
  {
   "cell_type": "code",
   "execution_count": 23,
   "metadata": {},
   "outputs": [],
   "source": [
    "df.loc[2,'username'] = 'ROG'"
   ]
  },
  {
   "cell_type": "code",
   "execution_count": 41,
   "metadata": {},
   "outputs": [],
   "source": [
    "df = pd.concat([df, new_record],ignore_index=True)"
   ]
  },
  {
   "cell_type": "code",
   "execution_count": 10,
   "metadata": {},
   "outputs": [],
   "source": [
    "df.to_csv('registered_users.csv')"
   ]
  },
  {
   "cell_type": "code",
   "execution_count": 11,
   "metadata": {},
   "outputs": [],
   "source": [
    "dq = pd.read_csv('registered_users.csv')"
   ]
  },
  {
   "cell_type": "code",
   "execution_count": 4,
   "metadata": {},
   "outputs": [
    {
     "ename": "NameError",
     "evalue": "name 'dq' is not defined",
     "output_type": "error",
     "traceback": [
      "\u001b[0;31m---------------------------------------------------------------------------\u001b[0m",
      "\u001b[0;31mNameError\u001b[0m                                 Traceback (most recent call last)",
      "\u001b[1;32m/home/alfred/Projects/python/DDNS/server/server_test.ipynb Cell 20'\u001b[0m in \u001b[0;36m<cell line: 1>\u001b[0;34m()\u001b[0m\n\u001b[0;32m----> <a href='vscode-notebook-cell:/home/alfred/Projects/python/DDNS/server/server_test.ipynb#ch0000019?line=0'>1</a>\u001b[0m dq\n",
      "\u001b[0;31mNameError\u001b[0m: name 'dq' is not defined"
     ]
    }
   ],
   "source": [
    "dq"
   ]
  },
  {
   "cell_type": "code",
   "execution_count": 18,
   "metadata": {},
   "outputs": [
    {
     "data": {
      "text/plain": [
       "0           Nextlab\n",
       "1    131.128.54.231\n",
       "Name: name, dtype: object"
      ]
     },
     "execution_count": 18,
     "metadata": {},
     "output_type": "execute_result"
    }
   ],
   "source": [
    "dq['name']"
   ]
  },
  {
   "cell_type": "code",
   "execution_count": 3,
   "metadata": {},
   "outputs": [],
   "source": [
    "bind9_utils.bind('nextlab','p330','131.128.54.47')"
   ]
  },
  {
   "cell_type": "code",
   "execution_count": 62,
   "metadata": {},
   "outputs": [
    {
     "data": {
      "text/plain": [
       "'04/20/2022, 21:36:55'"
      ]
     },
     "execution_count": 62,
     "metadata": {},
     "output_type": "execute_result"
    }
   ],
   "source": [
    "datetime.now().strftime(\"%m/%d/%Y, %H:%M:%S\")"
   ]
  },
  {
   "cell_type": "code",
   "execution_count": 54,
   "metadata": {},
   "outputs": [
    {
     "data": {
      "text/plain": [
       "2022"
      ]
     },
     "execution_count": 54,
     "metadata": {},
     "output_type": "execute_result"
    }
   ],
   "source": [
    "now.tm_year"
   ]
  },
  {
   "cell_type": "code",
   "execution_count": 57,
   "metadata": {},
   "outputs": [
    {
     "data": {
      "text/plain": [
       "21"
      ]
     },
     "execution_count": 57,
     "metadata": {},
     "output_type": "execute_result"
    }
   ],
   "source": [
    "now.tm_mday"
   ]
  },
  {
   "cell_type": "code",
   "execution_count": 1,
   "metadata": {},
   "outputs": [],
   "source": [
    "msg = \"useradd p330 nextlab 131.128.54.120\""
   ]
  },
  {
   "cell_type": "code",
   "execution_count": 3,
   "metadata": {},
   "outputs": [],
   "source": [
    "a = msg.split()"
   ]
  },
  {
   "cell_type": "code",
   "execution_count": 28,
   "metadata": {},
   "outputs": [
    {
     "data": {
      "text/plain": [
       "'04/21/2022, 16:40:42'"
      ]
     },
     "execution_count": 28,
     "metadata": {},
     "output_type": "execute_result"
    }
   ],
   "source": [
    "datetime.now().strftime('%m/%d/%Y, %H:%M:%S')"
   ]
  },
  {
   "cell_type": "code",
   "execution_count": 29,
   "metadata": {},
   "outputs": [],
   "source": [
    "import rsa"
   ]
  },
  {
   "cell_type": "code",
   "execution_count": 30,
   "metadata": {},
   "outputs": [],
   "source": [
    "public, private = rsa.newkeys(512)"
   ]
  },
  {
   "cell_type": "code",
   "execution_count": 33,
   "metadata": {},
   "outputs": [
    {
     "data": {
      "text/plain": [
       "PublicKey(8674929448872079921898602331415011757894732622522894211727511754006746015159407404916381703556633380869710168926883906603646599903396230783166708764144787, 65537)"
      ]
     },
     "execution_count": 33,
     "metadata": {},
     "output_type": "execute_result"
    }
   ],
   "source": [
    "public"
   ]
  },
  {
   "cell_type": "code",
   "execution_count": 62,
   "metadata": {},
   "outputs": [],
   "source": [
    "f = open('ddns_key.pem')"
   ]
  },
  {
   "cell_type": "code",
   "execution_count": 63,
   "metadata": {},
   "outputs": [],
   "source": [
    "a = f.read()\n",
    "f.close()"
   ]
  },
  {
   "cell_type": "code",
   "execution_count": 64,
   "metadata": {},
   "outputs": [
    {
     "data": {
      "text/plain": [
       "'-----BEGIN RSA PUBLIC KEY-----\\nMIIBigKCAYEApmJv25KgompJ6+LS4XkgdF7m9nIZYbKCtcCXKkMfD0KVXrCXuKOD\\nO9r7Bq+k7pOxbq+XTvALJVzjekDqcq5IJcAfXOOZ+L09krfuHm7+K2FZ7emMLRg3\\nf7FTa7HyPaIMTQBqqCQOg0FAHBvKcxjk3DP1w+YGZSLXXZfct/u4z2ZsIX4Wn/Ht\\nJu3Qy5bH5sRcoltHyr0MOQYwf/amffpqByJOUK5Zj+kEku0Yfk3alO8kU3EC60o0\\ncJK2yDXLhYyKH1/FCGNy+7aIboT5NuOhh6qcYRd9fGPDXrDBwarhT6EiozfWPmQI\\n09goK9FzsGbPszfzNaQbKOm481HwicIWl4kGQUe8DJHnaKFFT+HlVvUaH4rL0ZVw\\nyrVbFiKUuDJ4MQpwk/2PfF4VADa+/wAhh+K95q0LBI9OcFYTFi1X6dnHOf+plb8D\\n6dBUBHNh14wj+d+3k2tkYGqKyoer9FSq4NdbscTIbCE0WZWvoDcdmu9TEp9L8c0M\\nOAPe5/5pAxf9AgMBAAE=\\n-----END RSA PUBLIC KEY-----\\n'"
      ]
     },
     "execution_count": 64,
     "metadata": {},
     "output_type": "execute_result"
    }
   ],
   "source": [
    "a"
   ]
  },
  {
   "cell_type": "code",
   "execution_count": 65,
   "metadata": {},
   "outputs": [],
   "source": [
    "pubkey = rsa.PublicKey.load_pkcs1(a)"
   ]
  },
  {
   "cell_type": "code",
   "execution_count": 61,
   "metadata": {},
   "outputs": [],
   "source": [
    "prikey = rsa.PrivateKey.load_pkcs1(a)"
   ]
  },
  {
   "cell_type": "code",
   "execution_count": 66,
   "metadata": {},
   "outputs": [],
   "source": [
    "string = 'hello'"
   ]
  },
  {
   "cell_type": "code",
   "execution_count": null,
   "metadata": {},
   "outputs": [],
   "source": [
    "encMessage = rsa.encrypt(string.encode(),pubkey)"
   ]
  }
 ],
 "metadata": {
  "interpreter": {
   "hash": "a0711371d44ded134ec990c1f7dca356f186c9ed9202522a5b5b3ae89e24d429"
  },
  "kernelspec": {
   "display_name": "Python 3.9.12 ('ddns')",
   "language": "python",
   "name": "python3"
  },
  "language_info": {
   "codemirror_mode": {
    "name": "ipython",
    "version": 3
   },
   "file_extension": ".py",
   "mimetype": "text/x-python",
   "name": "python",
   "nbconvert_exporter": "python",
   "pygments_lexer": "ipython3",
   "version": "3.9.12"
  },
  "orig_nbformat": 4
 },
 "nbformat": 4,
 "nbformat_minor": 2
}

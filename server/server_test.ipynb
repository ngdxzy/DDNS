{
 "cells": [
  {
   "cell_type": "code",
   "execution_count": 1,
   "metadata": {},
   "outputs": [],
   "source": [
    "import numpy as np\n",
    "import pandas as pd\n",
    "import bind9_utils\n",
    "from datetime import datetime\n",
    "import user_manager"
   ]
  },
  {
   "cell_type": "code",
   "execution_count": 2,
   "metadata": {},
   "outputs": [
    {
     "name": "stdout",
     "output_type": "stream",
     "text": [
      "Empty DataFrame\n",
      "Columns: [username, zone, subnet, ip, date]\n",
      "Index: []\n",
      "  username     zone             subnet ip                  date\n",
      "0      rog  nextlab  131.128.54.175/24  x  04/20/2022, 22:03:04\n"
     ]
    }
   ],
   "source": [
    "user_manager.register_user('rog','nextlab','131.128.54.175/24')"
   ]
  },
  {
   "cell_type": "code",
   "execution_count": 3,
   "metadata": {},
   "outputs": [
    {
     "name": "stdout",
     "output_type": "stream",
     "text": [
      "  username     zone             subnet ip                  date\n",
      "0      rog  nextlab  131.128.54.175/24  x  04/20/2022, 22:03:04\n",
      "  username     zone             subnet ip                  date\n",
      "0      rog  nextlab  131.128.54.175/24  x  04/20/2022, 22:03:04\n",
      "1     p330  nextlab  131.128.54.175/24  x  04/20/2022, 22:03:08\n"
     ]
    }
   ],
   "source": [
    "user_manager.register_user('p330','nextlab','131.128.54.175/24')"
   ]
  },
  {
   "cell_type": "code",
   "execution_count": 4,
   "metadata": {},
   "outputs": [
    {
     "name": "stdout",
     "output_type": "stream",
     "text": [
      "  username     zone             subnet ip                  date\n",
      "0      rog  nextlab  131.128.54.175/24  x  04/20/2022, 22:03:04\n",
      "1     p330  nextlab  131.128.54.175/24  x  04/20/2022, 22:03:08\n",
      "  username     zone             subnet ip                  date\n",
      "0      rog  nextlab  131.128.54.175/24  x  04/20/2022, 22:03:04\n",
      "1     p330  nextlab  131.128.54.175/24  x  04/20/2022, 22:03:08\n",
      "2     dell  nextlab  131.128.54.175/24  x  04/20/2022, 22:03:12\n"
     ]
    }
   ],
   "source": [
    "user_manager.register_user('dell','nextlab','131.128.54.175/24')"
   ]
  },
  {
   "cell_type": "code",
   "execution_count": 5,
   "metadata": {},
   "outputs": [],
   "source": [
    "bind9_utils.create_zone('nextlab')"
   ]
  },
  {
   "cell_type": "code",
   "execution_count": 3,
   "metadata": {},
   "outputs": [],
   "source": [
    "bind9_utils.bind('nextlab','p330','131.128.54.47')"
   ]
  },
  {
   "cell_type": "code",
   "execution_count": 4,
   "metadata": {},
   "outputs": [],
   "source": [
    "bind9_utils.bind('nextlab','rog','131.128.54.175')"
   ]
  },
  {
   "cell_type": "code",
   "execution_count": 7,
   "metadata": {},
   "outputs": [],
   "source": [
    "bind9_utils.unbind('nextlab','p330')"
   ]
  },
  {
   "cell_type": "code",
   "execution_count": 2,
   "metadata": {},
   "outputs": [],
   "source": [
    "bind9_utils.remove_zone('nextlab')"
   ]
  },
  {
   "cell_type": "code",
   "execution_count": 7,
   "metadata": {},
   "outputs": [],
   "source": [
    "data = {\n",
    "  \"username\": [\"Nextlab\", \"p330\",\"rog\"],\n",
    "  \"zone\": ['nextlab','nextlab','nextlab'],\n",
    "  \"subnet\": ['131.128.54.0/24','131.128.54.0/24','131.128.54.0/24'],\n",
    "  \"ip\": [\"131.128.54.231\", \"131.128.54.47\", \"131.128.54.175\"],\n",
    "  \"date\": [\"a\",\"b\",\"c\"]\n",
    "}"
   ]
  },
  {
   "cell_type": "code",
   "execution_count": 8,
   "metadata": {},
   "outputs": [],
   "source": [
    "df = pd.DataFrame(data)"
   ]
  },
  {
   "cell_type": "code",
   "execution_count": 8,
   "metadata": {},
   "outputs": [],
   "source": [
    "new_record = {}\n",
    "new_record['name'] = ['mac']\n",
    "new_record['zone'] = ['nextlab']\n",
    "new_record['subnet'] = ['131.128.54.0/24']\n",
    "new_record['IP'] = ['131.128.54.161']\n",
    "new_record = pd.DataFrame(new_record)"
   ]
  },
  {
   "cell_type": "code",
   "execution_count": 9,
   "metadata": {},
   "outputs": [],
   "source": [
    "df = pd.concat([df, new_record], ignore_index=True)"
   ]
  },
  {
   "cell_type": "code",
   "execution_count": 9,
   "metadata": {},
   "outputs": [
    {
     "data": {
      "text/html": [
       "<div>\n",
       "<style scoped>\n",
       "    .dataframe tbody tr th:only-of-type {\n",
       "        vertical-align: middle;\n",
       "    }\n",
       "\n",
       "    .dataframe tbody tr th {\n",
       "        vertical-align: top;\n",
       "    }\n",
       "\n",
       "    .dataframe thead th {\n",
       "        text-align: right;\n",
       "    }\n",
       "</style>\n",
       "<table border=\"1\" class=\"dataframe\">\n",
       "  <thead>\n",
       "    <tr style=\"text-align: right;\">\n",
       "      <th></th>\n",
       "      <th>username</th>\n",
       "      <th>zone</th>\n",
       "      <th>subnet</th>\n",
       "      <th>ip</th>\n",
       "      <th>date</th>\n",
       "    </tr>\n",
       "  </thead>\n",
       "  <tbody>\n",
       "    <tr>\n",
       "      <th>0</th>\n",
       "      <td>Nextlab</td>\n",
       "      <td>nextlab</td>\n",
       "      <td>131.128.54.0/24</td>\n",
       "      <td>131.128.54.231</td>\n",
       "      <td>a</td>\n",
       "    </tr>\n",
       "    <tr>\n",
       "      <th>1</th>\n",
       "      <td>p330</td>\n",
       "      <td>nextlab</td>\n",
       "      <td>131.128.54.0/24</td>\n",
       "      <td>131.128.54.47</td>\n",
       "      <td>b</td>\n",
       "    </tr>\n",
       "    <tr>\n",
       "      <th>2</th>\n",
       "      <td>rog</td>\n",
       "      <td>nextlab</td>\n",
       "      <td>131.128.54.0/24</td>\n",
       "      <td>131.128.54.175</td>\n",
       "      <td>c</td>\n",
       "    </tr>\n",
       "  </tbody>\n",
       "</table>\n",
       "</div>"
      ],
      "text/plain": [
       "  username     zone           subnet              ip date\n",
       "0  Nextlab  nextlab  131.128.54.0/24  131.128.54.231    a\n",
       "1     p330  nextlab  131.128.54.0/24   131.128.54.47    b\n",
       "2      rog  nextlab  131.128.54.0/24  131.128.54.175    c"
      ]
     },
     "execution_count": 9,
     "metadata": {},
     "output_type": "execute_result"
    }
   ],
   "source": [
    "df"
   ]
  },
  {
   "cell_type": "code",
   "execution_count": 75,
   "metadata": {},
   "outputs": [],
   "source": [
    "df.drop(df['name'].to_list().index('Nextlab'), inplace=True)"
   ]
  },
  {
   "cell_type": "code",
   "execution_count": 77,
   "metadata": {},
   "outputs": [
    {
     "data": {
      "text/html": [
       "<div>\n",
       "<style scoped>\n",
       "    .dataframe tbody tr th:only-of-type {\n",
       "        vertical-align: middle;\n",
       "    }\n",
       "\n",
       "    .dataframe tbody tr th {\n",
       "        vertical-align: top;\n",
       "    }\n",
       "\n",
       "    .dataframe thead th {\n",
       "        text-align: right;\n",
       "    }\n",
       "</style>\n",
       "<table border=\"1\" class=\"dataframe\">\n",
       "  <thead>\n",
       "    <tr style=\"text-align: right;\">\n",
       "      <th></th>\n",
       "      <th>index</th>\n",
       "      <th>name</th>\n",
       "      <th>zone</th>\n",
       "      <th>subnet</th>\n",
       "      <th>IP</th>\n",
       "    </tr>\n",
       "  </thead>\n",
       "  <tbody>\n",
       "    <tr>\n",
       "      <th>0</th>\n",
       "      <td>1</td>\n",
       "      <td>p330</td>\n",
       "      <td>nextlab</td>\n",
       "      <td>131.128.54.0/24</td>\n",
       "      <td>131.128.54.47</td>\n",
       "    </tr>\n",
       "  </tbody>\n",
       "</table>\n",
       "</div>"
      ],
      "text/plain": [
       "   index  name     zone           subnet             IP\n",
       "0      1  p330  nextlab  131.128.54.0/24  131.128.54.47"
      ]
     },
     "execution_count": 77,
     "metadata": {},
     "output_type": "execute_result"
    }
   ],
   "source": [
    "df.reset_index()"
   ]
  },
  {
   "cell_type": "code",
   "execution_count": 41,
   "metadata": {},
   "outputs": [],
   "source": [
    "df = pd.concat([df, new_record],ignore_index=True)"
   ]
  },
  {
   "cell_type": "code",
   "execution_count": 10,
   "metadata": {},
   "outputs": [],
   "source": [
    "df.to_csv('registered_users.csv')"
   ]
  },
  {
   "cell_type": "code",
   "execution_count": 11,
   "metadata": {},
   "outputs": [],
   "source": [
    "dq = pd.read_csv('registered_users.csv')"
   ]
  },
  {
   "cell_type": "code",
   "execution_count": 12,
   "metadata": {},
   "outputs": [
    {
     "data": {
      "text/html": [
       "<div>\n",
       "<style scoped>\n",
       "    .dataframe tbody tr th:only-of-type {\n",
       "        vertical-align: middle;\n",
       "    }\n",
       "\n",
       "    .dataframe tbody tr th {\n",
       "        vertical-align: top;\n",
       "    }\n",
       "\n",
       "    .dataframe thead th {\n",
       "        text-align: right;\n",
       "    }\n",
       "</style>\n",
       "<table border=\"1\" class=\"dataframe\">\n",
       "  <thead>\n",
       "    <tr style=\"text-align: right;\">\n",
       "      <th></th>\n",
       "      <th>Unnamed: 0</th>\n",
       "      <th>username</th>\n",
       "      <th>zone</th>\n",
       "      <th>subnet</th>\n",
       "      <th>ip</th>\n",
       "      <th>date</th>\n",
       "    </tr>\n",
       "  </thead>\n",
       "  <tbody>\n",
       "    <tr>\n",
       "      <th>0</th>\n",
       "      <td>0</td>\n",
       "      <td>Nextlab</td>\n",
       "      <td>nextlab</td>\n",
       "      <td>131.128.54.0/24</td>\n",
       "      <td>131.128.54.231</td>\n",
       "      <td>a</td>\n",
       "    </tr>\n",
       "    <tr>\n",
       "      <th>1</th>\n",
       "      <td>1</td>\n",
       "      <td>p330</td>\n",
       "      <td>nextlab</td>\n",
       "      <td>131.128.54.0/24</td>\n",
       "      <td>131.128.54.47</td>\n",
       "      <td>b</td>\n",
       "    </tr>\n",
       "    <tr>\n",
       "      <th>2</th>\n",
       "      <td>2</td>\n",
       "      <td>rog</td>\n",
       "      <td>nextlab</td>\n",
       "      <td>131.128.54.0/24</td>\n",
       "      <td>131.128.54.175</td>\n",
       "      <td>c</td>\n",
       "    </tr>\n",
       "  </tbody>\n",
       "</table>\n",
       "</div>"
      ],
      "text/plain": [
       "   Unnamed: 0 username     zone           subnet              ip date\n",
       "0           0  Nextlab  nextlab  131.128.54.0/24  131.128.54.231    a\n",
       "1           1     p330  nextlab  131.128.54.0/24   131.128.54.47    b\n",
       "2           2      rog  nextlab  131.128.54.0/24  131.128.54.175    c"
      ]
     },
     "execution_count": 12,
     "metadata": {},
     "output_type": "execute_result"
    }
   ],
   "source": [
    "dq"
   ]
  },
  {
   "cell_type": "code",
   "execution_count": 18,
   "metadata": {},
   "outputs": [
    {
     "data": {
      "text/plain": [
       "0           Nextlab\n",
       "1    131.128.54.231\n",
       "Name: name, dtype: object"
      ]
     },
     "execution_count": 18,
     "metadata": {},
     "output_type": "execute_result"
    }
   ],
   "source": [
    "dq['name']"
   ]
  },
  {
   "cell_type": "code",
   "execution_count": 3,
   "metadata": {},
   "outputs": [],
   "source": [
    "bind9_utils.bind('nextlab','p330','131.128.54.47')"
   ]
  },
  {
   "cell_type": "code",
   "execution_count": 62,
   "metadata": {},
   "outputs": [
    {
     "data": {
      "text/plain": [
       "'04/20/2022, 21:36:55'"
      ]
     },
     "execution_count": 62,
     "metadata": {},
     "output_type": "execute_result"
    }
   ],
   "source": [
    "datetime.now().strftime(\"%m/%d/%Y, %H:%M:%S\")"
   ]
  },
  {
   "cell_type": "code",
   "execution_count": 54,
   "metadata": {},
   "outputs": [
    {
     "data": {
      "text/plain": [
       "2022"
      ]
     },
     "execution_count": 54,
     "metadata": {},
     "output_type": "execute_result"
    }
   ],
   "source": [
    "now.tm_year"
   ]
  },
  {
   "cell_type": "code",
   "execution_count": 57,
   "metadata": {},
   "outputs": [
    {
     "data": {
      "text/plain": [
       "21"
      ]
     },
     "execution_count": 57,
     "metadata": {},
     "output_type": "execute_result"
    }
   ],
   "source": [
    "now.tm_mday"
   ]
  },
  {
   "cell_type": "code",
   "execution_count": null,
   "metadata": {},
   "outputs": [],
   "source": []
  }
 ],
 "metadata": {
  "interpreter": {
   "hash": "a0711371d44ded134ec990c1f7dca356f186c9ed9202522a5b5b3ae89e24d429"
  },
  "kernelspec": {
   "display_name": "Python 3.9.12 ('ddns')",
   "language": "python",
   "name": "python3"
  },
  "language_info": {
   "codemirror_mode": {
    "name": "ipython",
    "version": 3
   },
   "file_extension": ".py",
   "mimetype": "text/x-python",
   "name": "python",
   "nbconvert_exporter": "python",
   "pygments_lexer": "ipython3",
   "version": "3.9.12"
  },
  "orig_nbformat": 4
 },
 "nbformat": 4,
 "nbformat_minor": 2
}
